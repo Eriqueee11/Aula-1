{
  "nbformat": 4,
  "nbformat_minor": 0,
  "metadata": {
    "colab": {
      "provenance": [],
      "authorship_tag": "ABX9TyOLEPGxPU8aktSpoiTlffgi",
      "include_colab_link": true
    },
    "kernelspec": {
      "name": "python3",
      "display_name": "Python 3"
    },
    "language_info": {
      "name": "python"
    }
  },
  "cells": [
    {
      "cell_type": "markdown",
      "metadata": {
        "id": "view-in-github",
        "colab_type": "text"
      },
      "source": [
        "<a href=\"https://colab.research.google.com/github/Eriqueee11/Aula-1/blob/main/Untitled0.ipynb\" target=\"_parent\"><img src=\"https://colab.research.google.com/assets/colab-badge.svg\" alt=\"Open In Colab\"/></a>"
      ]
    },
    {
      "cell_type": "code",
      "execution_count": null,
      "metadata": {
        "id": "WajHGQhUj_GP"
      },
      "outputs": [],
      "source": []
    },
    {
      "cell_type": "markdown",
      "source": [
        "#**Aula 5** ❄ ⚓ ♈"
      ],
      "metadata": {
        "id": "IHhKhb1NkH1p"
      }
    },
    {
      "cell_type": "code",
      "source": [
        "print(\"Olá, sou seu assistente virtual, em que posso ajudar?\")\n",
        "nome = input(\"digite seu nome: \")\n",
        "resposta = input(f\"Olá {nome}, qual tema você deseja conversar? Python, Javascript ou Matemática: \").lower()\n",
        "if resposta == \"python\":\n",
        "  print(f\"ótimo {nome}, vamos falar sobre Python. \\n Python é uma linguagem de programação simples e poderosa, usada para criar sites, jogos, automações, análise de dados e inteligência artificial.\")\n",
        "if resposta == \"javascript\":\n",
        "  print(f\"ótimo {nome}, vamos falar sobre javascript. JavaScript é a linguagem que torna sites interativos.\")\n",
        "if resposta == \"matemática\":\n",
        "  print(f\"ótimo {nome}, vamos falar sobre matemática. Matemática é a ciência dos números, formas e padrões.\")\n",
        "else:\n",
        "   print(f\"Que pena {nome}, não sei falar sobre assunto.\")"
      ],
      "metadata": {
        "colab": {
          "base_uri": "https://localhost:8080/"
        },
        "id": "_DzpeyW8lezq",
        "outputId": "bdf213e1-4ece-4e36-c7c6-ba32806be6a0"
      },
      "execution_count": null,
      "outputs": [
        {
          "output_type": "stream",
          "name": "stdout",
          "text": [
            "Olá, sou seu assistente virtual, em que posso ajudar?\n"
          ]
        }
      ]
    },
    {
      "cell_type": "markdown",
      "source": [
        "#**Aula 6 listas** ⚫ ⚾ 🪀"
      ],
      "metadata": {
        "id": "zPxQf01wyM0i"
      }
    }
  ]
}