{
  "nbformat": 4,
  "nbformat_minor": 0,
  "metadata": {
    "colab": {
      "provenance": [],
      "authorship_tag": "ABX9TyNgef3vsUCGy+5NlF2ggBPo",
      "include_colab_link": true
    },
    "kernelspec": {
      "name": "python3",
      "display_name": "Python 3"
    },
    "language_info": {
      "name": "python"
    }
  },
  "cells": [
    {
      "cell_type": "markdown",
      "metadata": {
        "id": "view-in-github",
        "colab_type": "text"
      },
      "source": [
        "<a href=\"https://colab.research.google.com/github/Eriqueee11/Aula-1/blob/main/Untitled0.ipynb\" target=\"_parent\"><img src=\"https://colab.research.google.com/assets/colab-badge.svg\" alt=\"Open In Colab\"/></a>"
      ]
    },
    {
      "cell_type": "code",
      "execution_count": null,
      "metadata": {
        "id": "WajHGQhUj_GP"
      },
      "outputs": [],
      "source": []
    },
    {
      "cell_type": "markdown",
      "source": [
        "#**Aula 5** ❄ ⚓ ♈"
      ],
      "metadata": {
        "id": "IHhKhb1NkH1p"
      }
    },
    {
      "cell_type": "code",
      "source": [
        "print(\"Olá, sou seu assistente virtual, em que posso ajudar?\")\n",
        "nome = input(\"digite seu nome: \")\n",
        "resposta = input(f\"Olá {nome}, qual tema você deseja conversar? Python, Javascript ou Matemática: \")"
      ],
      "metadata": {
        "colab": {
          "base_uri": "https://localhost:8080/"
        },
        "id": "_DzpeyW8lezq",
        "outputId": "2d6b5397-0de7-449c-dbbb-e8456d369da2"
      },
      "execution_count": 7,
      "outputs": [
        {
          "name": "stdout",
          "output_type": "stream",
          "text": [
            "Olá, sou seu assistente virtual, em que posso ajudar?\n",
            "digite seu nome: erique\n",
            "Olá erique, qual tema você deseja conversar? Python, Javascript ou Matemática: matematica\n"
          ]
        }
      ]
    }
  ]
}